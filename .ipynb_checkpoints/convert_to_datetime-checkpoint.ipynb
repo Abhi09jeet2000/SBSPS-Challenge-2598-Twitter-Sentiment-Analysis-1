{
 "cells": [
  {
   "cell_type": "code",
   "execution_count": 1,
   "metadata": {},
   "outputs": [],
   "source": [
    "import pandas as pd\n",
    "\n",
    "df=pd.read_csv('tweet_dataset.csv')\n",
    "\n",
    "# converting to datetime object and dropping unnecessary values\n",
    "\n",
    "from datetime import datetime \n",
    "\n",
    "for i in range(0, 53676):\n",
    "    datetime_str = df.datetime[i]\n",
    "    df.datetime[i] = datetime.strptime(datetime_str, '%Y-%m-%d %H:%M:%S')\n",
    "    \n",
    "count=[]\n",
    "for i in range(53676, df.shape[0]):\n",
    "    try:\n",
    "        datetime_str = df.datetime[i]\n",
    "        df.datetime[i] = datetime.strptime(datetime_str, '%m/%d/%Y %H:%M')\n",
    "    except ValueError:\n",
    "        count.append(i)\n",
    "#print(count)\n",
    "df.drop(count, inplace=True)"
   ]
  },
  {
   "cell_type": "code",
   "execution_count": 5,
   "metadata": {},
   "outputs": [],
   "source": [
    "df.to_csv('covidtweets.csv')"
   ]
  }
 ],
 "metadata": {
  "kernelspec": {
   "display_name": "Python 3",
   "language": "python",
   "name": "python3"
  },
  "language_info": {
   "codemirror_mode": {
    "name": "ipython",
    "version": 3
   },
   "file_extension": ".py",
   "mimetype": "text/x-python",
   "name": "python",
   "nbconvert_exporter": "python",
   "pygments_lexer": "ipython3",
   "version": "3.7.6"
  }
 },
 "nbformat": 4,
 "nbformat_minor": 4
}
