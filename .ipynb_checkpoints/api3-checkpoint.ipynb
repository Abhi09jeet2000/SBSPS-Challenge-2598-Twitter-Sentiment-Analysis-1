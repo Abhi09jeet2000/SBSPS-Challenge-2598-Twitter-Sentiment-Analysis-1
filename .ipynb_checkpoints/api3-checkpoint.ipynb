{
 "cells": [
  {
   "cell_type": "code",
   "execution_count": null,
   "metadata": {},
   "outputs": [],
   "source": [
    "apikey = 'syvuRqNS3GK_WbSsInrJzFUn9vTrAYIk-Ha8AjkW2ySq'\n",
    "url = 'https://api.us-south.tone-analyzer.watson.cloud.ibm.com/instances/37fb6661-1995-4738-9d79-509cbd8326d7'\n",
    "\n",
    "from ibm_watson import ToneAnalyzerV3\n",
    "from ibm_cloud_sdk_core.authenticators import IAMAuthenticator\n",
    "from ibm_watson import ApiException\n",
    "import json\n",
    "import os\n",
    "import pandas as pd\n",
    "from langdetect import detect\n",
    "import random\n",
    "import re\n",
    "import time\n",
    "from sklearn.model_selection import train_test_split\n",
    "import ast\n",
    "\n",
    "data_api = pd.read_csv('data_api.csv')\n",
    "data_api3 = data_api[2000:3000]\n",
    "\n",
    "authenticator = IAMAuthenticator(apikey)\n",
    "tone_analyzer = ToneAnalyzerV3(\n",
    "    version='2017-09-21',\n",
    "    authenticator=authenticator\n",
    ")\n",
    "\n",
    "tone_analyzer.set_service_url(url)\n",
    "tone_analyzer.set_disable_ssl_verification(False)\n",
    "\n",
    "tones = []\n",
    "index = 0\n",
    "for item in data_api3['text']:\n",
    "    try:\n",
    "        index = index + 1\n",
    "        text = item\n",
    "        tone_analysis = tone_analyzer.tone({'text': text}, content_type='application/json').get_result()\n",
    "        tones.append(tone_analysis)\n",
    "    except ApiException as ex:\n",
    "        tones.append(None)\n",
    "        print (\"Method failed with status code \" + str(ex.code) + \": \" + ex.message)"
   ]
  },
  {
   "cell_type": "code",
   "execution_count": null,
   "metadata": {},
   "outputs": [],
   "source": []
  }
 ],
 "metadata": {
  "kernelspec": {
   "display_name": "Python 3",
   "language": "python",
   "name": "python3"
  },
  "language_info": {
   "codemirror_mode": {
    "name": "ipython",
    "version": 3
   },
   "file_extension": ".py",
   "mimetype": "text/x-python",
   "name": "python",
   "nbconvert_exporter": "python",
   "pygments_lexer": "ipython3",
   "version": "3.7.6"
  }
 },
 "nbformat": 4,
 "nbformat_minor": 4
}
