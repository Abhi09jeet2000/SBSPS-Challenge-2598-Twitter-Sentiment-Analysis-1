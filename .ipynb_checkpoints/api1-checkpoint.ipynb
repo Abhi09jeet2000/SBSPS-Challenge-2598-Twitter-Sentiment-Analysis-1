{
 "cells": [
  {
   "cell_type": "code",
   "execution_count": 61,
   "metadata": {},
   "outputs": [],
   "source": [
    "apikey= \"g7JUi82Wy2dhHdacAOeN-L0aSfVISnVMi2qQHNiycwIM\""
   ]
  },
  {
   "cell_type": "code",
   "execution_count": 62,
   "metadata": {},
   "outputs": [],
   "source": [
    "url= \"https://api.jp-tok.tone-analyzer.watson.cloud.ibm.com/instances/ddd2c991-3eae-4f9a-a1df-1178d916848e\""
   ]
  },
  {
   "cell_type": "code",
   "execution_count": 63,
   "metadata": {},
   "outputs": [],
   "source": [
    "from ibm_watson import ToneAnalyzerV3\n",
    "from ibm_cloud_sdk_core.authenticators import IAMAuthenticator\n",
    "from ibm_watson import ApiException\n",
    "import json\n",
    "import os\n",
    "import pandas as pd\n",
    "from langdetect import detect\n",
    "import random\n",
    "import re\n",
    "import time\n",
    "from sklearn.model_selection import train_test_split\n",
    "import ast"
   ]
  },
  {
   "cell_type": "code",
   "execution_count": 71,
   "metadata": {},
   "outputs": [],
   "source": [
    "df = pd.read_csv('covidTweets.csv')"
   ]
  },
  {
   "cell_type": "code",
   "execution_count": 72,
   "metadata": {},
   "outputs": [],
   "source": [
    "from DataPreprocessing.RemovePuctuations import *\n",
    "df['text'] = remove_punc_apply(df['text'])\n",
    "df = df.drop(['Unnamed: 0.1','Unnamed: 0','Unnamed: 14','Unnamed: 15','medias','has_media','user_id','url','ID'], axis=1)"
   ]
  },
  {
   "cell_type": "code",
   "execution_count": 73,
   "metadata": {},
   "outputs": [
    {
     "data": {
      "text/html": [
       "<div>\n",
       "<style scoped>\n",
       "    .dataframe tbody tr th:only-of-type {\n",
       "        vertical-align: middle;\n",
       "    }\n",
       "\n",
       "    .dataframe tbody tr th {\n",
       "        vertical-align: top;\n",
       "    }\n",
       "\n",
       "    .dataframe thead th {\n",
       "        text-align: right;\n",
       "    }\n",
       "</style>\n",
       "<table border=\"1\" class=\"dataframe\">\n",
       "  <thead>\n",
       "    <tr style=\"text-align: right;\">\n",
       "      <th></th>\n",
       "      <th>usernameTweet</th>\n",
       "      <th>text</th>\n",
       "      <th>nbr_retweet</th>\n",
       "      <th>nbr_favorite</th>\n",
       "      <th>nbr_reply</th>\n",
       "      <th>datetime</th>\n",
       "      <th>is_reply</th>\n",
       "      <th>is_retweet</th>\n",
       "    </tr>\n",
       "  </thead>\n",
       "  <tbody>\n",
       "    <tr>\n",
       "      <th>0</th>\n",
       "      <td>rj_ashwin</td>\n",
       "      <td>Sabse Pehle toh  Majdur   Labour  Class Worker...</td>\n",
       "      <td>0</td>\n",
       "      <td>1</td>\n",
       "      <td>0</td>\n",
       "      <td>2020-03-28 23:24:57</td>\n",
       "      <td>False</td>\n",
       "      <td>False</td>\n",
       "    </tr>\n",
       "    <tr>\n",
       "      <th>1</th>\n",
       "      <td>vikramsoni232</td>\n",
       "      <td>TajinderBagga   Bhaiya  i  proud of you You a...</td>\n",
       "      <td>0</td>\n",
       "      <td>0</td>\n",
       "      <td>0</td>\n",
       "      <td>2020-03-29 12:52:33</td>\n",
       "      <td>False</td>\n",
       "      <td>False</td>\n",
       "    </tr>\n",
       "    <tr>\n",
       "      <th>2</th>\n",
       "      <td>ABHISHE33329022</td>\n",
       "      <td>Mam  India  mein hum ko companys ki audit krni...</td>\n",
       "      <td>0</td>\n",
       "      <td>0</td>\n",
       "      <td>0</td>\n",
       "      <td>2020-03-29 21:20:30</td>\n",
       "      <td>True</td>\n",
       "      <td>False</td>\n",
       "    </tr>\n",
       "    <tr>\n",
       "      <th>3</th>\n",
       "      <td>hindust74474485</td>\n",
       "      <td>Videsh me rahne wale Bhai  India  laye Gaye bu...</td>\n",
       "      <td>0</td>\n",
       "      <td>0</td>\n",
       "      <td>0</td>\n",
       "      <td>2020-04-23 09:29:44</td>\n",
       "      <td>False</td>\n",
       "      <td>False</td>\n",
       "    </tr>\n",
       "    <tr>\n",
       "      <th>4</th>\n",
       "      <td>KumarSa61420257</td>\n",
       "      <td>Akhir bhojh ban gaye na bihari pure  India  pe...</td>\n",
       "      <td>0</td>\n",
       "      <td>0</td>\n",
       "      <td>0</td>\n",
       "      <td>2020-04-27 08:15:01</td>\n",
       "      <td>False</td>\n",
       "      <td>False</td>\n",
       "    </tr>\n",
       "  </tbody>\n",
       "</table>\n",
       "</div>"
      ],
      "text/plain": [
       "     usernameTweet                                               text  \\\n",
       "0        rj_ashwin  Sabse Pehle toh  Majdur   Labour  Class Worker...   \n",
       "1    vikramsoni232   TajinderBagga   Bhaiya  i  proud of you You a...   \n",
       "2  ABHISHE33329022  Mam  India  mein hum ko companys ki audit krni...   \n",
       "3  hindust74474485  Videsh me rahne wale Bhai  India  laye Gaye bu...   \n",
       "4  KumarSa61420257  Akhir bhojh ban gaye na bihari pure  India  pe...   \n",
       "\n",
       "   nbr_retweet  nbr_favorite  nbr_reply             datetime  is_reply  \\\n",
       "0            0             1          0  2020-03-28 23:24:57     False   \n",
       "1            0             0          0  2020-03-29 12:52:33     False   \n",
       "2            0             0          0  2020-03-29 21:20:30      True   \n",
       "3            0             0          0  2020-04-23 09:29:44     False   \n",
       "4            0             0          0  2020-04-27 08:15:01     False   \n",
       "\n",
       "   is_retweet  \n",
       "0       False  \n",
       "1       False  \n",
       "2       False  \n",
       "3       False  \n",
       "4       False  "
      ]
     },
     "execution_count": 73,
     "metadata": {},
     "output_type": "execute_result"
    }
   ],
   "source": [
    "df.head()"
   ]
  },
  {
   "cell_type": "code",
   "execution_count": 74,
   "metadata": {},
   "outputs": [
    {
     "name": "stdout",
     "output_type": "stream",
     "text": [
      "(74553, 8)\n"
     ]
    },
    {
     "data": {
      "text/html": [
       "<div>\n",
       "<style scoped>\n",
       "    .dataframe tbody tr th:only-of-type {\n",
       "        vertical-align: middle;\n",
       "    }\n",
       "\n",
       "    .dataframe tbody tr th {\n",
       "        vertical-align: top;\n",
       "    }\n",
       "\n",
       "    .dataframe thead th {\n",
       "        text-align: right;\n",
       "    }\n",
       "</style>\n",
       "<table border=\"1\" class=\"dataframe\">\n",
       "  <thead>\n",
       "    <tr style=\"text-align: right;\">\n",
       "      <th></th>\n",
       "      <th>usernameTweet</th>\n",
       "      <th>text</th>\n",
       "      <th>nbr_retweet</th>\n",
       "      <th>nbr_favorite</th>\n",
       "      <th>nbr_reply</th>\n",
       "      <th>datetime</th>\n",
       "      <th>is_reply</th>\n",
       "      <th>is_retweet</th>\n",
       "    </tr>\n",
       "  </thead>\n",
       "  <tbody>\n",
       "    <tr>\n",
       "      <th>0</th>\n",
       "      <td>rj_ashwin</td>\n",
       "      <td>Sabse Pehle toh  Majdur   Labour  Class Worker...</td>\n",
       "      <td>0</td>\n",
       "      <td>1</td>\n",
       "      <td>0</td>\n",
       "      <td>2020-03-28 23:24:57</td>\n",
       "      <td>False</td>\n",
       "      <td>False</td>\n",
       "    </tr>\n",
       "    <tr>\n",
       "      <th>1</th>\n",
       "      <td>vikramsoni232</td>\n",
       "      <td>TajinderBagga   Bhaiya  i  proud of you You a...</td>\n",
       "      <td>0</td>\n",
       "      <td>0</td>\n",
       "      <td>0</td>\n",
       "      <td>2020-03-29 12:52:33</td>\n",
       "      <td>False</td>\n",
       "      <td>False</td>\n",
       "    </tr>\n",
       "    <tr>\n",
       "      <th>2</th>\n",
       "      <td>ABHISHE33329022</td>\n",
       "      <td>Mam  India  mein hum ko companys ki audit krni...</td>\n",
       "      <td>0</td>\n",
       "      <td>0</td>\n",
       "      <td>0</td>\n",
       "      <td>2020-03-29 21:20:30</td>\n",
       "      <td>True</td>\n",
       "      <td>False</td>\n",
       "    </tr>\n",
       "    <tr>\n",
       "      <th>3</th>\n",
       "      <td>hindust74474485</td>\n",
       "      <td>Videsh me rahne wale Bhai  India  laye Gaye bu...</td>\n",
       "      <td>0</td>\n",
       "      <td>0</td>\n",
       "      <td>0</td>\n",
       "      <td>2020-04-23 09:29:44</td>\n",
       "      <td>False</td>\n",
       "      <td>False</td>\n",
       "    </tr>\n",
       "    <tr>\n",
       "      <th>4</th>\n",
       "      <td>KumarSa61420257</td>\n",
       "      <td>Akhir bhojh ban gaye na bihari pure  India  pe...</td>\n",
       "      <td>0</td>\n",
       "      <td>0</td>\n",
       "      <td>0</td>\n",
       "      <td>2020-04-27 08:15:01</td>\n",
       "      <td>False</td>\n",
       "      <td>False</td>\n",
       "    </tr>\n",
       "  </tbody>\n",
       "</table>\n",
       "</div>"
      ],
      "text/plain": [
       "     usernameTweet                                               text  \\\n",
       "0        rj_ashwin  Sabse Pehle toh  Majdur   Labour  Class Worker...   \n",
       "1    vikramsoni232   TajinderBagga   Bhaiya  i  proud of you You a...   \n",
       "2  ABHISHE33329022  Mam  India  mein hum ko companys ki audit krni...   \n",
       "3  hindust74474485  Videsh me rahne wale Bhai  India  laye Gaye bu...   \n",
       "4  KumarSa61420257  Akhir bhojh ban gaye na bihari pure  India  pe...   \n",
       "\n",
       "   nbr_retweet  nbr_favorite  nbr_reply             datetime  is_reply  \\\n",
       "0            0             1          0  2020-03-28 23:24:57     False   \n",
       "1            0             0          0  2020-03-29 12:52:33     False   \n",
       "2            0             0          0  2020-03-29 21:20:30      True   \n",
       "3            0             0          0  2020-04-23 09:29:44     False   \n",
       "4            0             0          0  2020-04-27 08:15:01     False   \n",
       "\n",
       "   is_retweet  \n",
       "0       False  \n",
       "1       False  \n",
       "2       False  \n",
       "3       False  \n",
       "4       False  "
      ]
     },
     "execution_count": 74,
     "metadata": {},
     "output_type": "execute_result"
    }
   ],
   "source": [
    "data_strip_none = df[df['text'].notnull()]\n",
    "data_strip_none = data_strip_none.set_index(pd.Index(range(0,len(data_strip_none))))\n",
    "print(data_strip_none.shape)\n",
    "data_strip_none.head()"
   ]
  },
  {
   "cell_type": "code",
   "execution_count": 76,
   "metadata": {},
   "outputs": [],
   "source": [
    "random.seed(9001)\n",
    "\n",
    "data_api, data_test = train_test_split(data_strip_none, train_size=0.75, random_state=0)\n",
    "\n",
    "# Reset index\n",
    "data_api = data_api.set_index(pd.Index(range(0,len(data_api))))\n",
    "data_test = data_test.set_index(pd.Index(range(0,len(data_test))))\n",
    "\n",
    "# Save the dataset\n",
    "data_api.to_csv('data_api.csv',index=False)\n",
    "data_test.to_csv('data_test.csv',index=False)"
   ]
  },
  {
   "cell_type": "code",
   "execution_count": 77,
   "metadata": {},
   "outputs": [],
   "source": [
    "data_api = pd.read_csv('data_api.csv')"
   ]
  },
  {
   "cell_type": "code",
   "execution_count": 78,
   "metadata": {},
   "outputs": [
    {
     "data": {
      "text/plain": [
       "(55914, 8)"
      ]
     },
     "execution_count": 78,
     "metadata": {},
     "output_type": "execute_result"
    }
   ],
   "source": [
    "data_api.shape"
   ]
  },
  {
   "cell_type": "code",
   "execution_count": 79,
   "metadata": {},
   "outputs": [],
   "source": [
    "data_api1 = data_api[0:1000]"
   ]
  },
  {
   "cell_type": "code",
   "execution_count": 80,
   "metadata": {},
   "outputs": [],
   "source": [
    "authenticator = IAMAuthenticator(apikey)\n",
    "tone_analyzer = ToneAnalyzerV3(\n",
    "    version='2017-09-21',\n",
    "    authenticator=authenticator\n",
    ")\n",
    "\n",
    "tone_analyzer.set_service_url(url)\n",
    "tone_analyzer.set_disable_ssl_verification(False)"
   ]
  },
  {
   "cell_type": "code",
   "execution_count": null,
   "metadata": {},
   "outputs": [],
   "source": [
    "tones = []\n",
    "index = 0\n",
    "for item in data_api1['text']:\n",
    "    try:\n",
    "        index = index + 1\n",
    "        text = item\n",
    "        tone_analysis = tone_analyzer.tone({'text': text}, content_type='application/json').get_result()\n",
    "        tones.append(tone_analysis)\n",
    "    except ApiException as ex:\n",
    "        tones.append(None)\n",
    "        print (\"Method failed with status code \" + str(ex.code) + \": \" + ex.message)"
   ]
  },
  {
   "cell_type": "code",
   "execution_count": 44,
   "metadata": {},
   "outputs": [
    {
     "data": {
      "text/html": [
       "<div>\n",
       "<style scoped>\n",
       "    .dataframe tbody tr th:only-of-type {\n",
       "        vertical-align: middle;\n",
       "    }\n",
       "\n",
       "    .dataframe tbody tr th {\n",
       "        vertical-align: top;\n",
       "    }\n",
       "\n",
       "    .dataframe thead th {\n",
       "        text-align: right;\n",
       "    }\n",
       "</style>\n",
       "<table border=\"1\" class=\"dataframe\">\n",
       "  <thead>\n",
       "    <tr style=\"text-align: right;\">\n",
       "      <th></th>\n",
       "      <th>document_tone</th>\n",
       "    </tr>\n",
       "  </thead>\n",
       "  <tbody>\n",
       "    <tr>\n",
       "      <th>0</th>\n",
       "      <td>{'tones': [{'score': 0.603374, 'tone_id': 'sad...</td>\n",
       "    </tr>\n",
       "    <tr>\n",
       "      <th>1</th>\n",
       "      <td>{'tones': [{'score': 0.520483, 'tone_id': 'ang...</td>\n",
       "    </tr>\n",
       "    <tr>\n",
       "      <th>2</th>\n",
       "      <td>{'tones': []}</td>\n",
       "    </tr>\n",
       "    <tr>\n",
       "      <th>3</th>\n",
       "      <td>{'tones': [{'score': 0.532616, 'tone_id': 'ana...</td>\n",
       "    </tr>\n",
       "    <tr>\n",
       "      <th>4</th>\n",
       "      <td>{'tones': [{'score': 0.77245, 'tone_id': 'sadn...</td>\n",
       "    </tr>\n",
       "  </tbody>\n",
       "</table>\n",
       "</div>"
      ],
      "text/plain": [
       "                                       document_tone\n",
       "0  {'tones': [{'score': 0.603374, 'tone_id': 'sad...\n",
       "1  {'tones': [{'score': 0.520483, 'tone_id': 'ang...\n",
       "2                                      {'tones': []}\n",
       "3  {'tones': [{'score': 0.532616, 'tone_id': 'ana...\n",
       "4  {'tones': [{'score': 0.77245, 'tone_id': 'sadn..."
      ]
     },
     "execution_count": 44,
     "metadata": {},
     "output_type": "execute_result"
    }
   ],
   "source": [
    "tones_copy = tones.copy()\n",
    "tones = pd.DataFrame(tones)\n",
    "tones.head()"
   ]
  },
  {
   "cell_type": "code",
   "execution_count": 59,
   "metadata": {},
   "outputs": [],
   "source": [
    "data_api1 = data_api1.reset_index()\n",
    "data_api1 = data_api1.drop(['index'], axis=1)\n",
    "data_api_complete = pd.concat([data_api1,tones],axis=1)\n",
    "\n",
    "data_api1.to_csv('data_api1.csv',index=False)\n",
    "dftest = pd.read_csv('data_api1.csv')"
   ]
  },
  {
   "cell_type": "code",
   "execution_count": 58,
   "metadata": {},
   "outputs": [
    {
     "ename": "TypeError",
     "evalue": "catching classes that do not inherit from BaseException is not allowed",
     "output_type": "error",
     "traceback": [
      "\u001b[1;31m---------------------------------------------------------------------------\u001b[0m",
      "\u001b[1;31mTypeError\u001b[0m                                 Traceback (most recent call last)",
      "\u001b[1;32m<ipython-input-58-fe77e1fc5ce7>\u001b[0m in \u001b[0;36m<module>\u001b[1;34m\u001b[0m\n\u001b[0;32m     12\u001b[0m         \u001b[0mdatetime_str\u001b[0m \u001b[1;33m=\u001b[0m \u001b[0mdata_api1\u001b[0m\u001b[1;33m.\u001b[0m\u001b[0mdatetime\u001b[0m\u001b[1;33m[\u001b[0m\u001b[0mi\u001b[0m\u001b[1;33m]\u001b[0m\u001b[1;33m\u001b[0m\u001b[1;33m\u001b[0m\u001b[0m\n\u001b[1;32m---> 13\u001b[1;33m         \u001b[0mdata_api1\u001b[0m\u001b[1;33m.\u001b[0m\u001b[0mdatetime\u001b[0m\u001b[1;33m[\u001b[0m\u001b[0mi\u001b[0m\u001b[1;33m]\u001b[0m \u001b[1;33m=\u001b[0m \u001b[0mdatetime\u001b[0m\u001b[1;33m.\u001b[0m\u001b[0mstrptime\u001b[0m\u001b[1;33m(\u001b[0m\u001b[0mdatetime_str\u001b[0m\u001b[1;33m,\u001b[0m \u001b[1;34m'%m/%d/%Y %H:%M'\u001b[0m\u001b[1;33m)\u001b[0m\u001b[1;33m\u001b[0m\u001b[1;33m\u001b[0m\u001b[0m\n\u001b[0m\u001b[0;32m     14\u001b[0m     \u001b[1;32mexcept\u001b[0m \u001b[1;33m[\u001b[0m\u001b[0mValueError\u001b[0m\u001b[1;33m,\u001b[0m\u001b[0mTypeError\u001b[0m\u001b[1;33m]\u001b[0m\u001b[1;33m:\u001b[0m\u001b[1;33m\u001b[0m\u001b[1;33m\u001b[0m\u001b[0m\n",
      "\u001b[1;31mTypeError\u001b[0m: strptime() argument 1 must be str, not datetime.datetime",
      "\nDuring handling of the above exception, another exception occurred:\n",
      "\u001b[1;31mTypeError\u001b[0m                                 Traceback (most recent call last)",
      "\u001b[1;32m<ipython-input-58-fe77e1fc5ce7>\u001b[0m in \u001b[0;36m<module>\u001b[1;34m\u001b[0m\n\u001b[0;32m     12\u001b[0m         \u001b[0mdatetime_str\u001b[0m \u001b[1;33m=\u001b[0m \u001b[0mdata_api1\u001b[0m\u001b[1;33m.\u001b[0m\u001b[0mdatetime\u001b[0m\u001b[1;33m[\u001b[0m\u001b[0mi\u001b[0m\u001b[1;33m]\u001b[0m\u001b[1;33m\u001b[0m\u001b[1;33m\u001b[0m\u001b[0m\n\u001b[0;32m     13\u001b[0m         \u001b[0mdata_api1\u001b[0m\u001b[1;33m.\u001b[0m\u001b[0mdatetime\u001b[0m\u001b[1;33m[\u001b[0m\u001b[0mi\u001b[0m\u001b[1;33m]\u001b[0m \u001b[1;33m=\u001b[0m \u001b[0mdatetime\u001b[0m\u001b[1;33m.\u001b[0m\u001b[0mstrptime\u001b[0m\u001b[1;33m(\u001b[0m\u001b[0mdatetime_str\u001b[0m\u001b[1;33m,\u001b[0m \u001b[1;34m'%m/%d/%Y %H:%M'\u001b[0m\u001b[1;33m)\u001b[0m\u001b[1;33m\u001b[0m\u001b[1;33m\u001b[0m\u001b[0m\n\u001b[1;32m---> 14\u001b[1;33m     \u001b[1;32mexcept\u001b[0m \u001b[1;33m[\u001b[0m\u001b[0mValueError\u001b[0m\u001b[1;33m,\u001b[0m\u001b[0mTypeError\u001b[0m\u001b[1;33m]\u001b[0m\u001b[1;33m:\u001b[0m\u001b[1;33m\u001b[0m\u001b[1;33m\u001b[0m\u001b[0m\n\u001b[0m\u001b[0;32m     15\u001b[0m         \u001b[0mcount\u001b[0m\u001b[1;33m.\u001b[0m\u001b[0mappend\u001b[0m\u001b[1;33m(\u001b[0m\u001b[0mi\u001b[0m\u001b[1;33m)\u001b[0m\u001b[1;33m\u001b[0m\u001b[1;33m\u001b[0m\u001b[0m\n\u001b[0;32m     16\u001b[0m \u001b[1;31m#print(count)\u001b[0m\u001b[1;33m\u001b[0m\u001b[1;33m\u001b[0m\u001b[1;33m\u001b[0m\u001b[0m\n",
      "\u001b[1;31mTypeError\u001b[0m: catching classes that do not inherit from BaseException is not allowed"
     ]
    }
   ],
   "source": [
    "# # converting to datetime object and dropping unnecessary values\n",
    "\n",
    "# from datetime import datetime \n",
    "\n",
    "# # for i in range(0,1000):\n",
    "# #     datetime_str = data_api1.datetime[i]\n",
    "# #     data_api1.datetime[i] = datetime.strptime(datetime_str, '%Y-%m-%d %H:%M:%S')\n",
    "    \n",
    "# count=[]\n",
    "# for i in range(0, data_api1.shape[0]):\n",
    "#     try:\n",
    "#         datetime_str = data_api1.datetime[i]\n",
    "#         data_api1.datetime[i] = datetime.strptime(datetime_str, '%m/%d/%Y %H:%M')\n",
    "#     except [ValueError,TypeError]:\n",
    "#         count.append(i)\n",
    "# #print(count)\n",
    "# data_api1.drop(count, inplace=True)\n"
   ]
  },
  {
   "cell_type": "code",
   "execution_count": 60,
   "metadata": {},
   "outputs": [
    {
     "data": {
      "text/html": [
       "<div>\n",
       "<style scoped>\n",
       "    .dataframe tbody tr th:only-of-type {\n",
       "        vertical-align: middle;\n",
       "    }\n",
       "\n",
       "    .dataframe tbody tr th {\n",
       "        vertical-align: top;\n",
       "    }\n",
       "\n",
       "    .dataframe thead th {\n",
       "        text-align: right;\n",
       "    }\n",
       "</style>\n",
       "<table border=\"1\" class=\"dataframe\">\n",
       "  <thead>\n",
       "    <tr style=\"text-align: right;\">\n",
       "      <th></th>\n",
       "      <th>usernameTweet</th>\n",
       "      <th>text</th>\n",
       "      <th>nbr_retweet</th>\n",
       "      <th>nbr_favorite</th>\n",
       "      <th>nbr_reply</th>\n",
       "      <th>datetime</th>\n",
       "      <th>is_reply</th>\n",
       "      <th>is_retweet</th>\n",
       "    </tr>\n",
       "  </thead>\n",
       "  <tbody>\n",
       "    <tr>\n",
       "      <th>0</th>\n",
       "      <td>lywyre</td>\n",
       "      <td>You have a job to do as PM Please let states g...</td>\n",
       "      <td>1</td>\n",
       "      <td>1</td>\n",
       "      <td>0</td>\n",
       "      <td>2020-06-14 14:55:48</td>\n",
       "      <td>True</td>\n",
       "      <td>False</td>\n",
       "    </tr>\n",
       "    <tr>\n",
       "      <th>1</th>\n",
       "      <td>barryslee</td>\n",
       "      <td>There was nothing wrong with the question or t...</td>\n",
       "      <td>0</td>\n",
       "      <td>0</td>\n",
       "      <td>0</td>\n",
       "      <td>2020-05-05 23:00:59</td>\n",
       "      <td>True</td>\n",
       "      <td>False</td>\n",
       "    </tr>\n",
       "    <tr>\n",
       "      <th>2</th>\n",
       "      <td>CFirpion</td>\n",
       "      <td>I see alright  What’s your  situation  with th...</td>\n",
       "      <td>0</td>\n",
       "      <td>0</td>\n",
       "      <td>2</td>\n",
       "      <td>2020-05-23 16:48:42</td>\n",
       "      <td>True</td>\n",
       "      <td>False</td>\n",
       "    </tr>\n",
       "    <tr>\n",
       "      <th>3</th>\n",
       "      <td>CAPRAVEENMUNDRA</td>\n",
       "      <td>We request for order of  extension  of due dat...</td>\n",
       "      <td>0</td>\n",
       "      <td>1</td>\n",
       "      <td>0</td>\n",
       "      <td>3/23/2020 8:20</td>\n",
       "      <td>TRUE</td>\n",
       "      <td>False</td>\n",
       "    </tr>\n",
       "    <tr>\n",
       "      <th>4</th>\n",
       "      <td>prasant66202950</td>\n",
       "      <td>sabyaactor   Dear brother  Due to  covid19  v...</td>\n",
       "      <td>0</td>\n",
       "      <td>0</td>\n",
       "      <td>0</td>\n",
       "      <td>2020-06-14 11:43:33</td>\n",
       "      <td>False</td>\n",
       "      <td>False</td>\n",
       "    </tr>\n",
       "  </tbody>\n",
       "</table>\n",
       "</div>"
      ],
      "text/plain": [
       "     usernameTweet                                               text  \\\n",
       "0           lywyre  You have a job to do as PM Please let states g...   \n",
       "1        barryslee  There was nothing wrong with the question or t...   \n",
       "2         CFirpion  I see alright  What’s your  situation  with th...   \n",
       "3  CAPRAVEENMUNDRA  We request for order of  extension  of due dat...   \n",
       "4  prasant66202950   sabyaactor   Dear brother  Due to  covid19  v...   \n",
       "\n",
       "  nbr_retweet  nbr_favorite  nbr_reply             datetime is_reply  \\\n",
       "0           1             1          0  2020-06-14 14:55:48     True   \n",
       "1           0             0          0  2020-05-05 23:00:59     True   \n",
       "2           0             0          2  2020-05-23 16:48:42     True   \n",
       "3           0             1          0       3/23/2020 8:20     TRUE   \n",
       "4           0             0          0  2020-06-14 11:43:33    False   \n",
       "\n",
       "   is_retweet  \n",
       "0       False  \n",
       "1       False  \n",
       "2       False  \n",
       "3       False  \n",
       "4       False  "
      ]
     },
     "execution_count": 60,
     "metadata": {},
     "output_type": "execute_result"
    }
   ],
   "source": [
    "dftest.head()"
   ]
  },
  {
   "cell_type": "code",
   "execution_count": null,
   "metadata": {},
   "outputs": [],
   "source": [
    "dftest['document_tones'] = dftest.document_tone.apply(lambda x: ast.literal_eval(x)['tones'])\n",
    "dftest.drop('document_tone',axis = 1,inplace = True)"
   ]
  }
 ],
 "metadata": {
  "kernelspec": {
   "display_name": "Python 3",
   "language": "python",
   "name": "python3"
  },
  "language_info": {
   "codemirror_mode": {
    "name": "ipython",
    "version": 3
   },
   "file_extension": ".py",
   "mimetype": "text/x-python",
   "name": "python",
   "nbconvert_exporter": "python",
   "pygments_lexer": "ipython3",
   "version": "3.7.6"
  }
 },
 "nbformat": 4,
 "nbformat_minor": 4
}
