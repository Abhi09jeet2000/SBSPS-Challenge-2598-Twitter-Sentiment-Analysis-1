{
 "cells": [
  {
   "cell_type": "code",
   "execution_count": null,
   "metadata": {},
   "outputs": [],
   "source": [
    "#Combining each tweet .json file into .csv file\n",
    "'''\n",
    "import pandas as pd\n",
    "import glob\n",
    "import json\n",
    "files = glob.glob('*')\n",
    "#files = glob.glob('user/*')\n",
    "len(files)\n",
    "dictlist = []\n",
    "\n",
    "for file in files:\n",
    "    json_string = open(file,encoding=\"utf8\").read()\n",
    "    json_dict = json.loads(json_string)\n",
    "    dictlist.append(json_dict)\n",
    "    \n",
    "df = pd.DataFrame(dictlist)\n",
    "\n",
    "df = df.replace({'\\n': ' '}, regex=True) # remove linebreaks in the dataframe\n",
    "df = df.replace({'\\t': ' '}, regex=True) # remove tabs in the dataframe\n",
    "df = df.replace({'\\r': ' '}, regex=True) # remove carriage return in the dataframe\n",
    "df\n",
    "df.to_csv(\"data.csv\")\n",
    "'''"
   ]
  }
 ],
 "metadata": {
  "kernelspec": {
   "display_name": "Python 3",
   "language": "python",
   "name": "python3"
  },
  "language_info": {
   "codemirror_mode": {
    "name": "ipython",
    "version": 3
   },
   "file_extension": ".py",
   "mimetype": "text/x-python",
   "name": "python",
   "nbconvert_exporter": "python",
   "pygments_lexer": "ipython3",
   "version": "3.7.6"
  }
 },
 "nbformat": 4,
 "nbformat_minor": 4
}
